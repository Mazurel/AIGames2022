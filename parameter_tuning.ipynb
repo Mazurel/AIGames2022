{
  "nbformat": 4,
  "nbformat_minor": 0,
  "metadata": {
    "colab": {
      "provenance": []
    },
    "kernelspec": {
      "name": "python3",
      "display_name": "Python 3"
    },
    "language_info": {
      "name": "python"
    }
  },
  "cells": [
    {
      "cell_type": "code",
      "execution_count": null,
      "metadata": {
        "id": "vt3TSMonVm65"
      },
      "outputs": [],
      "source": [
        "import numpy as np\n",
        "import pandas as pd\n",
        "from sklearn.ensemble import RandomForestClassifier\n",
        "import xgboost as xgb\n",
        "import matplotlib.pyplot as plt\n",
        "from sklearn.metrics import accuracy_score\n",
        "from sklearn.metrics import confusion_matrix\n",
        "from sklearn import metrics\n",
        "from sklearn.metrics import roc_auc_score\n",
        "from sklearn.model_selection import GridSearchCV\n",
        "from sklearn.model_selection import train_test_split\n",
        "import time\n",
        "import datetime\n",
        "from sklearn.preprocessing import OneHotEncoder\n",
        "from sklearn.model_selection import RandomizedSearchCV\n",
        "from sklearn.metrics import make_scorer\n",
        "from sklearn.metrics import f1_score\n",
        "\n",
        "def display(results):\n",
        "    print(f'Best parameters are: {results.best_params_}')\n",
        "    print(\"\\n\")\n",
        "    mean_score = results.cv_results_['mean_test_score']\n",
        "    std_score = results.cv_results_['std_test_score']\n",
        "    params = results.cv_results_['params']\n",
        "    for mean,std,params in zip(mean_score,std_score,params):\n",
        "        print(f'f1: {round(mean,3)} + or -{round(std,3)} for the {params}')\n",
        "        \n",
        "param_grid = { \n",
        "    'n_estimators': [100,200, 500],\n",
        "    'max_depth' : [32,64,128],\n",
        "    'criterion' :['gini']\n",
        "}"
      ]
    },
    {
      "cell_type": "code",
      "source": [
        "df = pd.read_csv('/content/drive/MyDrive/Colab Notebooks/dataset9.csv')\n",
        "\n",
        "df = df.reset_index(drop = True)\n",
        "train_target = df['status']\n",
        "df = df.drop(columns = ['status','Unnamed: 0','observation_id','president_Trump','season_spring','season_summer','season_winter','protocol_BOOVE','protocol_DALL8','protocol_GARL8','protocol_GARL9','protocol_MRSSH2','protocol_ZROBA1'])\n"
      ],
      "metadata": {
        "id": "xapqkeABWBbA"
      },
      "execution_count": null,
      "outputs": []
    },
    {
      "cell_type": "code",
      "source": [
        "train_x, test_x, train_y, test_y = train_test_split(df, train_target,\n",
        "test_size=0.2, random_state = 10,shuffle = True)\n",
        "\n",
        "train_x_sorted = train_x.sort_index()\n",
        "train_y_sorted = train_y.sort_index()\n",
        "test_x_sorted = test_x.sort_index()\n",
        "test_y_sorted = test_y.sort_index()\n",
        "test_y_array = test_y_sorted.to_numpy()\n",
        "\n",
        "rf = RandomForestClassifier(random_state=1,max_depth=128, n_estimators=500) \n",
        "\n",
        "rf.fit(df,train_target)\n",
        "'''\n",
        "target_predicted = rf.predict(test_x_sorted)\n",
        "\n",
        "conf_mat = confusion_matrix(test_y_sorted.to_numpy(), target_predicted)\n",
        "precision = conf_mat[0][0]/(conf_mat[0][0]+conf_mat[0][1])\n",
        "recall = conf_mat[0][0]/(conf_mat[0][0]+conf_mat[1][0])\n",
        "\n",
        "f1 = conf_mat[0][0]/(conf_mat[0][0]+1/2*(conf_mat[0][1]+conf_mat[1][0]))\n",
        "f11 = 2*precision*recall/(precision+recall)\n",
        "accuracy = (conf_mat[0][0] + conf_mat[1][1])/(conf_mat[0][0] + conf_mat[1][1]+conf_mat[0][1] + conf_mat[1][0])\n",
        "accuracy, f1\n",
        "'''"
      ],
      "metadata": {
        "colab": {
          "base_uri": "https://localhost:8080/",
          "height": 70
        },
        "id": "PFhtVm_XW-73",
        "outputId": "06fdcb3d-421b-46e8-de62-fa668ba47c8e"
      },
      "execution_count": null,
      "outputs": [
        {
          "output_type": "execute_result",
          "data": {
            "text/plain": [
              "'\\ntarget_predicted = rf.predict(test_x_sorted)\\n\\nconf_mat = confusion_matrix(test_y_sorted.to_numpy(), target_predicted)\\nprecision = conf_mat[0][0]/(conf_mat[0][0]+conf_mat[0][1])\\nrecall = conf_mat[0][0]/(conf_mat[0][0]+conf_mat[1][0])\\n\\nf1 = conf_mat[0][0]/(conf_mat[0][0]+1/2*(conf_mat[0][1]+conf_mat[1][0]))\\nf11 = 2*precision*recall/(precision+recall)\\naccuracy = (conf_mat[0][0] + conf_mat[1][1])/(conf_mat[0][0] + conf_mat[1][1]+conf_mat[0][1] + conf_mat[1][0])\\naccuracy, f1\\n'"
            ],
            "application/vnd.google.colaboratory.intrinsic+json": {
              "type": "string"
            }
          },
          "metadata": {},
          "execution_count": 105
        }
      ]
    },
    {
      "cell_type": "code",
      "source": [
        "# predictions for test_observations.csv and generating submissions\n",
        "df_sub = pd.read_csv('/content/drive/MyDrive/Colab Notebooks/dataset-test9.csv')\n",
        "final = df_sub[['observation_id','hour']] \n",
        "\n",
        "df_sub = df_sub.drop(columns=['Unnamed: 0','observation_id'])\n",
        "submission = rf.predict(df_sub)\n",
        "df_sub['submission'] = submission\n",
        "df_sub['status'] = pd.Series(np.where(df_sub.submission.values == 1, \"OPEN\", \"CLSD\"),df_sub.index)\n",
        "final['status'] = df_sub['status']\n",
        "final = final.drop(columns=['hour'])\n",
        "\n",
        "final.to_csv('/content/drive/MyDrive/Colab Notebooks/submission_final1.csv')"
      ],
      "metadata": {
        "id": "Cilrj6hivbv2"
      },
      "execution_count": null,
      "outputs": []
    },
    {
      "cell_type": "code",
      "source": [
        "cv = GridSearchCV(rf, param_grid, cv=5,scoring ='f1') #hyperparameters tuning\n",
        "cv.fit(train_x_sorted, train_y_sorted)\n",
        "display(cv)"
      ],
      "metadata": {
        "colab": {
          "base_uri": "https://localhost:8080/"
        },
        "id": "D2pwHehyM_h5",
        "outputId": "33f4bc42-aa0b-4a1c-82e4-215f5b92f089"
      },
      "execution_count": null,
      "outputs": [
        {
          "output_type": "stream",
          "name": "stdout",
          "text": [
            "Best parameters are: {'criterion': 'gini', 'max_depth': 128, 'n_estimators': 500}\n",
            "\n",
            "\n",
            "f1: 0.789 + or -0.052 for the {'criterion': 'gini', 'max_depth': 32, 'n_estimators': 100}\n",
            "f1: 0.793 + or -0.056 for the {'criterion': 'gini', 'max_depth': 32, 'n_estimators': 200}\n",
            "f1: 0.792 + or -0.058 for the {'criterion': 'gini', 'max_depth': 32, 'n_estimators': 500}\n",
            "f1: 0.79 + or -0.058 for the {'criterion': 'gini', 'max_depth': 64, 'n_estimators': 100}\n",
            "f1: 0.797 + or -0.058 for the {'criterion': 'gini', 'max_depth': 64, 'n_estimators': 200}\n",
            "f1: 0.797 + or -0.061 for the {'criterion': 'gini', 'max_depth': 64, 'n_estimators': 500}\n",
            "f1: 0.79 + or -0.058 for the {'criterion': 'gini', 'max_depth': 128, 'n_estimators': 100}\n",
            "f1: 0.797 + or -0.059 for the {'criterion': 'gini', 'max_depth': 128, 'n_estimators': 200}\n",
            "f1: 0.797 + or -0.061 for the {'criterion': 'gini', 'max_depth': 128, 'n_estimators': 500}\n"
          ]
        }
      ]
    },
    {
      "cell_type": "code",
      "source": [
        "    df = pd.DataFrame(df)  # presentation only\n",
        "    importances = rf.feature_importances_\n",
        "    sorted_indices = np.argsort(importances)[::-1]\n",
        "    plt.title(f'feature importances for RandomForest')\n",
        "    plt.bar(range(df.shape[1])[1:20], importances[sorted_indices][1:20], align='center',color=\"black\")\n",
        "    plt.xticks(range(df.shape[1])[1:20], df.columns[sorted_indices][1:20], rotation=90)\n",
        "    plt.tight_layout()\n",
        "    plt.show()"
      ],
      "metadata": {
        "colab": {
          "base_uri": "https://localhost:8080/",
          "height": 297
        },
        "id": "aY9fQHDqDzNh",
        "outputId": "6d60276f-87f1-424e-c66d-ff100785e0bf"
      },
      "execution_count": null,
      "outputs": [
        {
          "output_type": "display_data",
          "data": {
            "text/plain": [
              "<Figure size 432x288 with 1 Axes>"
            ],
            "image/png": "[encoded data removed]"
          },
          "metadata": {
            "needs_background": "light"
          }
        }
      ]
    }
  ]
}